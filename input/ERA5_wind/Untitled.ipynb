{
 "cells": [
  {
   "cell_type": "code",
   "execution_count": 2,
   "id": "1c544b82-8a35-41b7-9866-9a08b26212f4",
   "metadata": {},
   "outputs": [],
   "source": [
    "import xarray as xr\n",
    "import matplotlib.pyplot as plt\n",
    "ds=xr.open_dataset('ERA5_IO_01_91_21.nc')\n",
    "\n"
   ]
  },
  {
   "cell_type": "code",
   "execution_count": 3,
   "id": "339eb6c3-dbf7-4a0d-9685-c0711e195ae0",
   "metadata": {},
   "outputs": [],
   "source": [
    "d_split=[]\n",
    "for i in range(1991,2021,5):\n",
    "    dt=ds.sel(TIME=slice(repr(i)+'-01-01',repr(i+5)+'-01-01'))\n",
    "    d_split.append(dt)\n",
    "    "
   ]
  },
  {
   "cell_type": "code",
   "execution_count": 4,
   "id": "adfa6587-6bc9-4484-8ff3-2feeb5744be1",
   "metadata": {},
   "outputs": [],
   "source": [
    "    \n",
    "d_split[0].to_netcdf('era5_IO_01_91_95.nc')\n",
    "d_split[1].to_netcdf('era5_IO_01_96_00.nc')\n",
    "d_split[2].to_netcdf('era5_IO_01_01_05.nc')\n",
    "d_split[3].to_netcdf('era5_IO_01_06_10.nc')\n",
    "d_split[4].to_netcdf('era5_IO_01_11_15.nc')\n",
    "d_split[5].to_netcdf('era5_IO_01_16_20.nc')\n"
   ]
  }
 ],
 "metadata": {
  "kernelspec": {
   "display_name": "clim",
   "language": "python",
   "name": "clim"
  },
  "language_info": {
   "codemirror_mode": {
    "name": "ipython",
    "version": 3
   },
   "file_extension": ".py",
   "mimetype": "text/x-python",
   "name": "python",
   "nbconvert_exporter": "python",
   "pygments_lexer": "ipython3",
   "version": "3.10.4"
  }
 },
 "nbformat": 4,
 "nbformat_minor": 5
}
